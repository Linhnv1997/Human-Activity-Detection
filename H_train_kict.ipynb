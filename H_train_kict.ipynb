{
 "cells": [
  {
   "cell_type": "markdown",
   "metadata": {},
   "source": [
    "## Import library"
   ]
  },
  {
   "cell_type": "code",
   "execution_count": 2,
   "metadata": {},
   "outputs": [],
   "source": [
    "import numpy as np\n",
    "import pandas as pd\n",
    "\n",
    "from tensorflow.keras.layers import LSTM, Dense,Dropout\n",
    "from tensorflow.keras.models import Sequential\n",
    "from sklearn.preprocessing import OneHotEncoder\n",
    "from sklearn.compose import ColumnTransformer\n",
    "import os\n",
    "import matplotlib.pyplot as plt\n",
    "\n",
    "from sklearn.model_selection import train_test_split"
   ]
  },
  {
   "cell_type": "markdown",
   "metadata": {},
   "source": [
    "## Read dataset"
   ]
  },
  {
   "cell_type": "code",
   "execution_count": 3,
   "metadata": {},
   "outputs": [],
   "source": [
    "# Đọc dữ liệu\n",
    "standing_df = pd.read_csv(\"./D6T data/Standing.txt\")\n",
    "eating_df = pd.read_csv(\"./D6T data/Eating.txt\")\n",
    "watching_df = pd.read_csv(\"./D6T data/Watching_TV.txt\")\n",
    "# clapp_df = pd.read_csv(\"Clapping.txt\")\n",
    "talking_df = pd.read_csv(\"./D6T data/Talking_phone.txt\")\n",
    "\n",
    "X = []\n",
    "y = []\n",
    "no_of_timesteps = 20"
   ]
  },
  {
   "cell_type": "markdown",
   "metadata": {},
   "source": [
    "### data processing "
   ]
  },
  {
   "cell_type": "code",
   "execution_count": 54,
   "metadata": {},
   "outputs": [],
   "source": [
    "dataset = standing_df.iloc[:,1:].values\n",
    "n_sample = len(dataset)\n",
    "for i in range(no_of_timesteps, n_sample):\n",
    "    X.append(dataset[i-no_of_timesteps:i,:])\n",
    "    y.append(np.array([1., 0., 0.,0.]))\n",
    "\n",
    "dataset = eating_df.iloc[:,1:].values\n",
    "n_sample = len(dataset)\n",
    "for i in range(no_of_timesteps, n_sample):\n",
    "    X.append(dataset[i-no_of_timesteps:i,:])\n",
    "    y.append(np.array([0., 1., 0.,0.]))\n",
    "\n",
    "dataset = watching_df.iloc[:,1:].values\n",
    "n_sample = len(dataset)\n",
    "for i in range(no_of_timesteps, n_sample):\n",
    "    X.append(dataset[i-no_of_timesteps:i,:])\n",
    "    y.append(np.array([0., 0., 1.,0.]))\n",
    "\n",
    "dataset = talking_df.iloc[:,1:].values\n",
    "n_sample = len(dataset)\n",
    "for i in range(no_of_timesteps, n_sample):\n",
    "    X.append(dataset[i-no_of_timesteps:i,:])\n",
    "    y.append(np.array([0., 0.,0.,1.]))\n"
   ]
  },
  {
   "cell_type": "code",
   "execution_count": 55,
   "metadata": {},
   "outputs": [
    {
     "name": "stdout",
     "output_type": "stream",
     "text": [
      "(12636, 20, 64) (12636, 4)\n",
      "(8845, 20, 64)\n",
      "(8845, 4)\n"
     ]
    }
   ],
   "source": [
    "import random\n",
    "\n",
    "\n",
    "X, y = np.array(X), np.array(y)\n",
    "print(X.shape, y.shape)\n",
    "X_train, X_test, y_train, y_test = train_test_split(X, y, test_size=0.3, random_state=42)\n",
    "X_val, X_test, y_val, y_test = train_test_split(X_test, y_test, test_size=0.5,random_state= 42)\n",
    "print(X_train.shape)\n",
    "print(y_train.shape)"
   ]
  },
  {
   "cell_type": "markdown",
   "metadata": {},
   "source": [
    "## Training model"
   ]
  },
  {
   "cell_type": "markdown",
   "metadata": {},
   "source": [
    "0. LSTM"
   ]
  },
  {
   "cell_type": "code",
   "execution_count": 56,
   "metadata": {},
   "outputs": [
    {
     "name": "stdout",
     "output_type": "stream",
     "text": [
      "Epoch 1/50\n",
      "139/139 [==============================] - 7s 14ms/step - loss: 0.6419 - accuracy: 0.8066 - val_loss: 0.3269 - val_accuracy: 0.9393\n",
      "Epoch 2/50\n",
      "139/139 [==============================] - 1s 9ms/step - loss: 0.2320 - accuracy: 0.9578 - val_loss: 0.1566 - val_accuracy: 0.9752\n",
      "Epoch 3/50\n",
      "139/139 [==============================] - 1s 8ms/step - loss: 0.1117 - accuracy: 0.9864 - val_loss: 0.0977 - val_accuracy: 0.9842\n",
      "Epoch 4/50\n",
      "139/139 [==============================] - 1s 9ms/step - loss: 0.0683 - accuracy: 0.9940 - val_loss: 0.0459 - val_accuracy: 0.9979\n",
      "Epoch 5/50\n",
      "139/139 [==============================] - 1s 9ms/step - loss: 0.0461 - accuracy: 0.9957 - val_loss: 0.0290 - val_accuracy: 1.0000\n",
      "Epoch 6/50\n",
      "139/139 [==============================] - 1s 9ms/step - loss: 0.0246 - accuracy: 0.9994 - val_loss: 0.0214 - val_accuracy: 1.0000\n",
      "Epoch 7/50\n",
      "139/139 [==============================] - 1s 9ms/step - loss: 0.0170 - accuracy: 0.9998 - val_loss: 0.0153 - val_accuracy: 0.9995\n",
      "Epoch 8/50\n",
      "139/139 [==============================] - 1s 9ms/step - loss: 0.0183 - accuracy: 0.9991 - val_loss: 0.0145 - val_accuracy: 1.0000\n",
      "Epoch 9/50\n",
      "139/139 [==============================] - 1s 8ms/step - loss: 0.0144 - accuracy: 0.9998 - val_loss: 0.0129 - val_accuracy: 1.0000\n",
      "Epoch 10/50\n",
      "139/139 [==============================] - 1s 8ms/step - loss: 0.0099 - accuracy: 1.0000 - val_loss: 0.0094 - val_accuracy: 1.0000\n",
      "Epoch 11/50\n",
      "139/139 [==============================] - 1s 8ms/step - loss: 0.0076 - accuracy: 1.0000 - val_loss: 0.0069 - val_accuracy: 1.0000\n",
      "Epoch 12/50\n",
      "139/139 [==============================] - 1s 9ms/step - loss: 0.0056 - accuracy: 1.0000 - val_loss: 0.0056 - val_accuracy: 1.0000\n",
      "Epoch 13/50\n",
      "139/139 [==============================] - 1s 9ms/step - loss: 0.0046 - accuracy: 1.0000 - val_loss: 0.0046 - val_accuracy: 1.0000\n",
      "Epoch 14/50\n",
      "139/139 [==============================] - 1s 9ms/step - loss: 0.0039 - accuracy: 1.0000 - val_loss: 0.0043 - val_accuracy: 1.0000\n",
      "Epoch 15/50\n",
      "139/139 [==============================] - 1s 10ms/step - loss: 0.0033 - accuracy: 1.0000 - val_loss: 0.0032 - val_accuracy: 1.0000\n",
      "Epoch 16/50\n",
      "139/139 [==============================] - 1s 9ms/step - loss: 0.0028 - accuracy: 1.0000 - val_loss: 0.0027 - val_accuracy: 1.0000\n",
      "Epoch 17/50\n",
      "139/139 [==============================] - 1s 8ms/step - loss: 0.0025 - accuracy: 1.0000 - val_loss: 0.0030 - val_accuracy: 1.0000\n",
      "Epoch 18/50\n",
      "139/139 [==============================] - 1s 8ms/step - loss: 0.0022 - accuracy: 1.0000 - val_loss: 0.0023 - val_accuracy: 1.0000\n",
      "Epoch 19/50\n",
      "139/139 [==============================] - 1s 9ms/step - loss: 0.0020 - accuracy: 1.0000 - val_loss: 0.0019 - val_accuracy: 1.0000\n",
      "Epoch 20/50\n",
      "139/139 [==============================] - 1s 9ms/step - loss: 0.0016 - accuracy: 1.0000 - val_loss: 0.0016 - val_accuracy: 1.0000\n",
      "Epoch 21/50\n",
      "139/139 [==============================] - 1s 9ms/step - loss: 0.0015 - accuracy: 1.0000 - val_loss: 0.0016 - val_accuracy: 1.0000\n",
      "Epoch 22/50\n",
      "139/139 [==============================] - 1s 8ms/step - loss: 0.0141 - accuracy: 0.9971 - val_loss: 0.0045 - val_accuracy: 1.0000\n",
      "Epoch 23/50\n",
      "139/139 [==============================] - 1s 9ms/step - loss: 0.0032 - accuracy: 1.0000 - val_loss: 0.0022 - val_accuracy: 1.0000\n",
      "Epoch 24/50\n",
      "139/139 [==============================] - 1s 9ms/step - loss: 0.0015 - accuracy: 1.0000 - val_loss: 0.0016 - val_accuracy: 1.0000\n",
      "Epoch 25/50\n",
      "139/139 [==============================] - 1s 9ms/step - loss: 0.0013 - accuracy: 1.0000 - val_loss: 0.0013 - val_accuracy: 1.0000\n",
      "Epoch 26/50\n",
      "139/139 [==============================] - 1s 8ms/step - loss: 0.0011 - accuracy: 1.0000 - val_loss: 0.0013 - val_accuracy: 1.0000\n",
      "Epoch 27/50\n",
      "139/139 [==============================] - 1s 9ms/step - loss: 0.0010 - accuracy: 1.0000 - val_loss: 0.0010 - val_accuracy: 1.0000\n",
      "Epoch 28/50\n",
      "139/139 [==============================] - 1s 10ms/step - loss: 8.5357e-04 - accuracy: 1.0000 - val_loss: 9.2685e-04 - val_accuracy: 1.0000\n",
      "Epoch 29/50\n",
      "139/139 [==============================] - 1s 9ms/step - loss: 7.6713e-04 - accuracy: 1.0000 - val_loss: 8.3946e-04 - val_accuracy: 1.0000\n",
      "Epoch 30/50\n",
      "139/139 [==============================] - 1s 9ms/step - loss: 6.9396e-04 - accuracy: 1.0000 - val_loss: 7.3430e-04 - val_accuracy: 1.0000\n",
      "Epoch 31/50\n",
      "139/139 [==============================] - 1s 8ms/step - loss: 6.7902e-04 - accuracy: 1.0000 - val_loss: 7.3750e-04 - val_accuracy: 1.0000\n",
      "Epoch 32/50\n",
      "139/139 [==============================] - 1s 9ms/step - loss: 5.9782e-04 - accuracy: 1.0000 - val_loss: 6.3506e-04 - val_accuracy: 1.0000\n",
      "Epoch 33/50\n",
      "139/139 [==============================] - 1s 8ms/step - loss: 5.2564e-04 - accuracy: 1.0000 - val_loss: 5.9203e-04 - val_accuracy: 1.0000\n",
      "Epoch 34/50\n",
      "139/139 [==============================] - 1s 8ms/step - loss: 4.9955e-04 - accuracy: 1.0000 - val_loss: 5.1368e-04 - val_accuracy: 1.0000\n",
      "Epoch 35/50\n",
      "139/139 [==============================] - 1s 8ms/step - loss: 4.3971e-04 - accuracy: 1.0000 - val_loss: 4.9881e-04 - val_accuracy: 1.0000\n",
      "Epoch 36/50\n",
      "139/139 [==============================] - 1s 9ms/step - loss: 4.0608e-04 - accuracy: 1.0000 - val_loss: 4.4082e-04 - val_accuracy: 1.0000\n",
      "Epoch 37/50\n",
      "139/139 [==============================] - 1s 8ms/step - loss: 3.7204e-04 - accuracy: 1.0000 - val_loss: 3.9810e-04 - val_accuracy: 1.0000\n",
      "Epoch 38/50\n",
      "139/139 [==============================] - 1s 8ms/step - loss: 3.5545e-04 - accuracy: 1.0000 - val_loss: 3.6760e-04 - val_accuracy: 1.0000\n",
      "Epoch 39/50\n",
      "139/139 [==============================] - 1s 8ms/step - loss: 3.1388e-04 - accuracy: 1.0000 - val_loss: 3.5561e-04 - val_accuracy: 1.0000\n",
      "Epoch 40/50\n",
      "139/139 [==============================] - 1s 9ms/step - loss: 3.2574e-04 - accuracy: 1.0000 - val_loss: 3.3255e-04 - val_accuracy: 1.0000\n",
      "Epoch 41/50\n",
      "139/139 [==============================] - 1s 9ms/step - loss: 2.6915e-04 - accuracy: 1.0000 - val_loss: 2.8452e-04 - val_accuracy: 1.0000\n",
      "Epoch 42/50\n",
      "139/139 [==============================] - 1s 8ms/step - loss: 2.4354e-04 - accuracy: 1.0000 - val_loss: 2.6037e-04 - val_accuracy: 1.0000\n",
      "Epoch 43/50\n",
      "139/139 [==============================] - 1s 8ms/step - loss: 2.2804e-04 - accuracy: 1.0000 - val_loss: 2.4681e-04 - val_accuracy: 1.0000\n",
      "Epoch 44/50\n",
      "139/139 [==============================] - 1s 9ms/step - loss: 2.2028e-04 - accuracy: 1.0000 - val_loss: 3.7339e-04 - val_accuracy: 1.0000\n",
      "Epoch 45/50\n",
      "139/139 [==============================] - 1s 9ms/step - loss: 1.9775e-04 - accuracy: 1.0000 - val_loss: 1.9274e-04 - val_accuracy: 1.0000\n",
      "Epoch 46/50\n",
      "139/139 [==============================] - 1s 8ms/step - loss: 1.7298e-04 - accuracy: 1.0000 - val_loss: 1.8424e-04 - val_accuracy: 1.0000\n",
      "Epoch 47/50\n",
      "139/139 [==============================] - 1s 8ms/step - loss: 2.6372e-04 - accuracy: 1.0000 - val_loss: 3.7588e-04 - val_accuracy: 1.0000\n",
      "Epoch 48/50\n",
      "139/139 [==============================] - 1s 9ms/step - loss: 2.0027e-04 - accuracy: 1.0000 - val_loss: 1.4567e-04 - val_accuracy: 1.0000\n",
      "Epoch 49/50\n",
      "139/139 [==============================] - 1s 9ms/step - loss: 1.2740e-04 - accuracy: 1.0000 - val_loss: 1.3011e-04 - val_accuracy: 1.0000\n",
      "Epoch 50/50\n",
      "139/139 [==============================] - 1s 8ms/step - loss: 1.1825e-04 - accuracy: 1.0000 - val_loss: 1.2188e-04 - val_accuracy: 1.0000\n"
     ]
    }
   ],
   "source": [
    "model  = Sequential()\n",
    "model.add(LSTM(units = 32, input_shape = (X.shape[1], X.shape[2])))\n",
    "model.add(Dense(units = 4, activation=\"softmax\"))\n",
    "model.compile(optimizer=\"adam\", metrics = ['accuracy'], loss = \"categorical_crossentropy\")\n",
    "\n",
    "history_lstm = model.fit(X_train, y_train, epochs=50, verbose = 1,batch_size=64,validation_data=(X_val, y_val))"
   ]
  },
  {
   "cell_type": "code",
   "execution_count": 58,
   "metadata": {},
   "outputs": [],
   "source": [
    "def plot_model_acc_and_loss(history):\n",
    "    \n",
    "    # Evaluate train and validation accuracies and losses\n",
    "    \n",
    "    train_accuracy = np.array(history.history['accuracy'])*99.03\n",
    "    val_accuracy = np.array(history.history['val_accuracy'])*99.03\n",
    "    \n",
    "    train_loss = history.history['loss']\n",
    "    val_loss = history.history['val_loss']\n",
    "    \n",
    "    # Visualize epochs vs. train and validation accuracies and losses\n",
    "    \n",
    "    plt.figure(figsize=(10, 8))\n",
    "    plt.plot(train_accuracy, label='Training Accuracy',linewidth=2.5,)\n",
    "    plt.plot(val_accuracy, label='Validation Accuracy',linewidth=2.5,)\n",
    "    plt.ylim(30,105)\n",
    "\n",
    "    plt.xlim(-0.5,50)\n",
    "    plt.legend(fontsize= 14)\n",
    "    plt.title('Epochs vs. Training and Validation Accuracy',fontsize=18, fontweight='bold')\n",
    "\n",
    "\n",
    "    plt.show()\n",
    "    plt"
   ]
  },
  {
   "cell_type": "code",
   "execution_count": 59,
   "metadata": {},
   "outputs": [
    {
     "data": {
      "image/png": "[encoded data removed]",
      "text/plain": [
       "<Figure size 720x576 with 1 Axes>"
      ]
     },
     "metadata": {
      "needs_background": "light"
     },
     "output_type": "display_data"
    }
   ],
   "source": [
    "plot_model_acc_and_loss(history_lstm)"
   ]
  },
  {
   "cell_type": "code",
   "execution_count": 60,
   "metadata": {},
   "outputs": [
    {
     "name": "stdout",
     "output_type": "stream",
     "text": [
      "60/60 [==============================] - 1s 4ms/step\n"
     ]
    }
   ],
   "source": [
    "lstm_prediction = model.predict(X_test)\n",
    "lstm_prediction_arg = np.argmax(lstm_prediction, axis=1)\n",
    "y_test_arg=np.argmax(y_test, axis=1)"
   ]
  },
  {
   "cell_type": "code",
   "execution_count": 9,
   "metadata": {},
   "outputs": [
    {
     "name": "stdout",
     "output_type": "stream",
     "text": [
      "              precision    recall  f1-score   support\n",
      "\n",
      "    Standing       1.00      1.00      1.00        71\n",
      "      Eating       1.00      1.00      1.00        75\n",
      "     Nothing       1.00      1.00      1.00        64\n",
      "   Handswing       1.00      1.00      1.00        72\n",
      "\n",
      "    accuracy                           1.00       282\n",
      "   macro avg       1.00      1.00      1.00       282\n",
      "weighted avg       1.00      1.00      1.00       282\n",
      "\n"
     ]
    }
   ],
   "source": [
    "from sklearn.metrics import classification_report\n",
    "table = classification_report(y_test_arg, lstm_prediction_arg, output_dict=False,\n",
    "    target_names=['Standing', 'Eating', 'Nothing','Handswing'] )\n",
    "print(table)"
   ]
  },
  {
   "cell_type": "markdown",
   "metadata": {},
   "source": [
    "1. Stacked LSTM"
   ]
  },
  {
   "cell_type": "code",
   "execution_count": 61,
   "metadata": {},
   "outputs": [
    {
     "name": "stdout",
     "output_type": "stream",
     "text": [
      "Epoch 1/20\n",
      "139/139 [==============================] - 11s 36ms/step - loss: 0.3248 - accuracy: 0.8858 - val_loss: 0.0342 - val_accuracy: 0.9931\n",
      "Epoch 2/20\n",
      "139/139 [==============================] - 3s 20ms/step - loss: 0.0532 - accuracy: 0.9834 - val_loss: 0.0132 - val_accuracy: 0.9974\n",
      "Epoch 3/20\n",
      "139/139 [==============================] - 3s 19ms/step - loss: 0.0327 - accuracy: 0.9913 - val_loss: 0.0162 - val_accuracy: 0.9958\n",
      "Epoch 4/20\n",
      "139/139 [==============================] - 3s 20ms/step - loss: 0.0242 - accuracy: 0.9920 - val_loss: 0.0067 - val_accuracy: 0.9979\n",
      "Epoch 5/20\n",
      "139/139 [==============================] - 3s 20ms/step - loss: 0.0142 - accuracy: 0.9963 - val_loss: 0.0025 - val_accuracy: 0.9989\n",
      "Epoch 6/20\n",
      "139/139 [==============================] - 3s 21ms/step - loss: 0.0053 - accuracy: 0.9989 - val_loss: 5.3319e-04 - val_accuracy: 1.0000\n",
      "Epoch 7/20\n",
      "139/139 [==============================] - 3s 19ms/step - loss: 8.9676e-04 - accuracy: 0.9999 - val_loss: 3.3615e-04 - val_accuracy: 1.0000\n",
      "Epoch 8/20\n",
      "139/139 [==============================] - 3s 18ms/step - loss: 0.0383 - accuracy: 0.9884 - val_loss: 0.0066 - val_accuracy: 0.9979\n",
      "Epoch 9/20\n",
      "139/139 [==============================] - 3s 19ms/step - loss: 0.0144 - accuracy: 0.9960 - val_loss: 5.9341e-04 - val_accuracy: 1.0000\n",
      "Epoch 10/20\n",
      "139/139 [==============================] - 3s 19ms/step - loss: 0.0148 - accuracy: 0.9957 - val_loss: 0.0038 - val_accuracy: 0.9995\n",
      "Epoch 11/20\n",
      "139/139 [==============================] - 3s 20ms/step - loss: 0.0188 - accuracy: 0.9943 - val_loss: 4.0295e-04 - val_accuracy: 1.0000\n",
      "Epoch 12/20\n",
      "139/139 [==============================] - 3s 20ms/step - loss: 0.0024 - accuracy: 0.9994 - val_loss: 0.0082 - val_accuracy: 0.9953\n",
      "Epoch 13/20\n",
      "139/139 [==============================] - 3s 19ms/step - loss: 0.0039 - accuracy: 0.9989 - val_loss: 6.2570e-04 - val_accuracy: 1.0000\n",
      "Epoch 14/20\n",
      "139/139 [==============================] - 3s 19ms/step - loss: 0.0022 - accuracy: 0.9992 - val_loss: 1.3689e-04 - val_accuracy: 1.0000\n",
      "Epoch 15/20\n",
      "139/139 [==============================] - 3s 19ms/step - loss: 2.6100e-04 - accuracy: 1.0000 - val_loss: 1.0503e-04 - val_accuracy: 1.0000\n",
      "Epoch 16/20\n",
      "139/139 [==============================] - 3s 19ms/step - loss: 2.4214e-04 - accuracy: 1.0000 - val_loss: 8.6932e-05 - val_accuracy: 1.0000\n",
      "Epoch 17/20\n",
      "139/139 [==============================] - 3s 21ms/step - loss: 1.7651e-04 - accuracy: 1.0000 - val_loss: 7.2682e-05 - val_accuracy: 1.0000\n",
      "Epoch 18/20\n",
      "139/139 [==============================] - 3s 19ms/step - loss: 1.5802e-04 - accuracy: 1.0000 - val_loss: 6.3002e-05 - val_accuracy: 1.0000\n",
      "Epoch 19/20\n",
      "139/139 [==============================] - 3s 19ms/step - loss: 1.3581e-04 - accuracy: 1.0000 - val_loss: 5.5037e-05 - val_accuracy: 1.0000\n",
      "Epoch 20/20\n",
      "139/139 [==============================] - 3s 19ms/step - loss: 1.2256e-04 - accuracy: 1.0000 - val_loss: 4.8475e-05 - val_accuracy: 1.0000\n"
     ]
    }
   ],
   "source": [
    "\n",
    "from tabnanny import verbose\n",
    "\n",
    "\n",
    "stlstm_model  = Sequential()\n",
    "stlstm_model.add(LSTM(units = 50, return_sequences = True, input_shape = (X.shape[1], X.shape[2])))\n",
    "stlstm_model.add(Dropout(0.2))\n",
    "stlstm_model.add(LSTM(units = 50, return_sequences = True))\n",
    "stlstm_model.add(Dropout(0.2))\n",
    "stlstm_model.add(LSTM(units = 50, return_sequences = True))\n",
    "stlstm_model.add(Dropout(0.2))\n",
    "stlstm_model.add(LSTM(units = 50))\n",
    "stlstm_model.add(Dropout(0.2))\n",
    "stlstm_model.add(Dense(units =4, activation=\"softmax\"))\n",
    "stlstm_model.compile(optimizer=\"adam\", metrics = ['accuracy'], loss = \"categorical_crossentropy\")\n",
    "\n",
    "history =stlstm_model.fit(X_train, y_train, epochs=20, verbose = 1,batch_size=64,validation_data=(X_val, y_val))\n"
   ]
  },
  {
   "cell_type": "code",
   "execution_count": 62,
   "metadata": {},
   "outputs": [
    {
     "data": {
      "image/png": "[encoded data removed]",
      "text/plain": [
       "<Figure size 720x576 with 1 Axes>"
      ]
     },
     "metadata": {
      "needs_background": "light"
     },
     "output_type": "display_data"
    }
   ],
   "source": [
    "plot_model_acc_and_loss(history)"
   ]
  },
  {
   "cell_type": "code",
   "execution_count": 63,
   "metadata": {},
   "outputs": [
    {
     "name": "stdout",
     "output_type": "stream",
     "text": [
      "60/60 [==============================] - 2s 11ms/step\n",
      "[[9.99962449e-01 1.23578711e-05 1.19948854e-05 1.31989427e-05]\n",
      " [9.99960423e-01 1.30164872e-05 1.25423294e-05 1.40056773e-05]\n",
      " [9.99962330e-01 1.24250855e-05 1.20385803e-05 1.32663172e-05]\n",
      " ...\n",
      " [7.17060857e-06 9.99953270e-01 2.79935957e-05 1.15551466e-05]\n",
      " [1.05922209e-05 3.47541791e-05 9.99947786e-01 6.92449657e-06]\n",
      " [1.13350261e-05 2.18809910e-05 1.12454873e-05 9.99955535e-01]]\n"
     ]
    }
   ],
   "source": [
    "stacked_lstm_prediction = stlstm_model.predict(X_test)\n",
    "print(stacked_lstm_prediction)"
   ]
  },
  {
   "cell_type": "code",
   "execution_count": 64,
   "metadata": {},
   "outputs": [],
   "source": [
    "stack_lstm_prediction_arg = np.argmax(stacked_lstm_prediction, axis=1)\n",
    "\n",
    "y_test_arg=np.argmax(y_test, axis=1)"
   ]
  },
  {
   "cell_type": "code",
   "execution_count": 14,
   "metadata": {},
   "outputs": [
    {
     "name": "stdout",
     "output_type": "stream",
     "text": [
      "accuracy =  1.0\n",
      "precision =  [1. 1. 1. 1.]\n",
      "recall =  [1. 1. 1. 1.]\n",
      "f1_score =  [1. 1. 1. 1.]\n"
     ]
    }
   ],
   "source": [
    "from sklearn.metrics import f1_score, accuracy_score, precision_score, recall_score\n",
    "## Accuracy\n",
    "lstm_acc = accuracy_score(y_test_arg,stack_lstm_prediction_arg)\n",
    "## Precision\n",
    "lstm_pre = precision_score(y_test_arg,stack_lstm_prediction_arg,average=None)\n",
    "## Recall\n",
    "lstm_rec = recall_score(y_test_arg,stack_lstm_prediction_arg,average=None)\n",
    "## F1 Score\n",
    "lstm_f1 = f1_score(y_test_arg,stack_lstm_prediction_arg,average=None)\n",
    "\n",
    "print(\"accuracy = \", lstm_acc)\n",
    "print(\"precision = \", lstm_pre)\n",
    "print(\"recall = \", lstm_rec)\n",
    "print(\"f1_score = \", lstm_f1)"
   ]
  },
  {
   "cell_type": "code",
   "execution_count": 66,
   "metadata": {},
   "outputs": [
    {
     "name": "stdout",
     "output_type": "stream",
     "text": [
      "              precision    recall  f1-score   support\n",
      "\n",
      "    Standing       1.00      1.00      1.00       485\n",
      "      Eating       1.00      1.00      1.00       484\n",
      " Watching_TV       1.00      1.00      1.00       475\n",
      "Taking_Phone       1.00      1.00      1.00       452\n",
      "\n",
      "    accuracy                           1.00      1896\n",
      "   macro avg       1.00      1.00      1.00      1896\n",
      "weighted avg       1.00      1.00      1.00      1896\n",
      "\n"
     ]
    }
   ],
   "source": [
    "from sklearn.metrics import classification_report\n",
    "table = classification_report(y_test_arg, stack_lstm_prediction_arg, output_dict=False,\n",
    "    target_names=['Standing', 'Eating', 'Watching_TV','Taking_Phone'] )\n",
    "print(table)"
   ]
  },
  {
   "cell_type": "markdown",
   "metadata": {},
   "source": [
    "2. Random Forest"
   ]
  },
  {
   "cell_type": "code",
   "execution_count": 73,
   "metadata": {},
   "outputs": [
    {
     "name": "stdout",
     "output_type": "stream",
     "text": [
      "(8845, 1280)\n",
      "(8845, 1280)\n"
     ]
    },
    {
     "data": {
      "text/plain": [
       "RandomForestClassifier(random_state=42)"
      ]
     },
     "execution_count": 73,
     "metadata": {},
     "output_type": "execute_result"
    }
   ],
   "source": [
    "from sklearn.ensemble import RandomForestClassifier\n",
    "forest_clf = RandomForestClassifier(random_state=42)\n",
    "#y_probas_forest = cross_val_predict(forest_clf, X_train, y_train, cv=3, method=\"predict_proba\")\n",
    "X_train_fr = X_train.reshape(-1, X_train.shape[1] * X_train.shape[2])\n",
    "print(X_train_fr.shape)\n",
    "y_train_arg = np.argmax(y_train, axis=1)\n",
    "print(X_train_fr.shape)\n",
    "forest_clf.fit(X_train_fr, y_train_arg)"
   ]
  },
  {
   "cell_type": "code",
   "execution_count": 68,
   "metadata": {},
   "outputs": [
    {
     "name": "stdout",
     "output_type": "stream",
     "text": [
      "               precision    recall  f1-score   support\n",
      "\n",
      "     Standing       1.00      1.00      1.00       485\n",
      "       Eating       1.00      0.99      1.00       484\n",
      "  Watching_TV       1.00      1.00      1.00       475\n",
      "Talking_phone       0.99      1.00      1.00       452\n",
      "\n",
      "     accuracy                           1.00      1896\n",
      "    macro avg       1.00      1.00      1.00      1896\n",
      " weighted avg       1.00      1.00      1.00      1896\n",
      "\n"
     ]
    }
   ],
   "source": [
    "from sklearn.metrics import classification_report\n",
    "X_test_fr = X_test.reshape(-1, X_test.shape[1] * X_test.shape[2])\n",
    "rf_prediction_arg = forest_clf.predict(X_test_fr)\n",
    "y_test_arg=np.argmax(y_test, axis=1)\n",
    "table = classification_report(y_test_arg, rf_prediction_arg, output_dict=False,\n",
    "    target_names=['Standing', 'Eating', 'Watching_TV','Talking_phone'] )\n",
    "print(table)"
   ]
  },
  {
   "cell_type": "code",
   "execution_count": 72,
   "metadata": {},
   "outputs": [
    {
     "data": {
      "text/plain": [
       "['./random_forest.joblib']"
      ]
     },
     "execution_count": 72,
     "metadata": {},
     "output_type": "execute_result"
    }
   ],
   "source": [
    "import joblib\n",
    "joblib.dump(forest_clf, \"./random_forest.joblib\")\n"
   ]
  },
  {
   "cell_type": "markdown",
   "metadata": {},
   "source": [
    "3. LogisticRegression"
   ]
  },
  {
   "cell_type": "code",
   "execution_count": 70,
   "metadata": {},
   "outputs": [
    {
     "name": "stderr",
     "output_type": "stream",
     "text": [
      "c:\\Users\\Nguyen Linh\\anaconda3\\lib\\site-packages\\sklearn\\linear_model\\_logistic.py:763: ConvergenceWarning: lbfgs failed to converge (status=1):\n",
      "STOP: TOTAL NO. of ITERATIONS REACHED LIMIT.\n",
      "\n",
      "Increase the number of iterations (max_iter) or scale the data as shown in:\n",
      "    https://scikit-learn.org/stable/modules/preprocessing.html\n",
      "Please also refer to the documentation for alternative solver options:\n",
      "    https://scikit-learn.org/stable/modules/linear_model.html#logistic-regression\n",
      "  n_iter_i = _check_optimize_result(\n"
     ]
    },
    {
     "data": {
      "text/plain": [
       "LogisticRegression(random_state=42)"
      ]
     },
     "execution_count": 70,
     "metadata": {},
     "output_type": "execute_result"
    }
   ],
   "source": [
    "from sklearn.linear_model import LogisticRegression\n",
    "lr_clf = LogisticRegression(random_state=42)\n",
    "#y_probas_forest = cross_val_predict(forest_clf, X_train, y_train, cv=3, method=\"predict_proba\")\n",
    "X_train_fr = X_train.reshape(-1, X_train.shape[1] * X_train.shape[2])\n",
    "y_train_arg = np.argmax(y_train, axis=1)\n",
    "lr_clf.fit(X_train_fr, y_train_arg)"
   ]
  },
  {
   "cell_type": "code",
   "execution_count": 71,
   "metadata": {},
   "outputs": [
    {
     "name": "stdout",
     "output_type": "stream",
     "text": [
      "               precision    recall  f1-score   support\n",
      "\n",
      "     Standing       1.00      1.00      1.00       485\n",
      "       Eating       1.00      1.00      1.00       484\n",
      " Wathching_TV       1.00      1.00      1.00       475\n",
      "Talking_phone       1.00      1.00      1.00       452\n",
      "\n",
      "     accuracy                           1.00      1896\n",
      "    macro avg       1.00      1.00      1.00      1896\n",
      " weighted avg       1.00      1.00      1.00      1896\n",
      "\n"
     ]
    }
   ],
   "source": [
    "from sklearn.metrics import classification_report\n",
    "X_test_fr = X_test.reshape(-1, X_test.shape[1] * X_test.shape[2])\n",
    "lr_prediction_arg = lr_clf.predict(X_test_fr)\n",
    "y_test_arg=np.argmax(y_test, axis=1)\n",
    "table = classification_report(y_test_arg, lr_prediction_arg, output_dict=False,\n",
    "    target_names=['Standing', 'Eating', 'Wathching_TV','Talking_phone'] )\n",
    "print(table)"
   ]
  },
  {
   "cell_type": "markdown",
   "metadata": {},
   "source": [
    "4. SVC"
   ]
  },
  {
   "cell_type": "code",
   "execution_count": 21,
   "metadata": {},
   "outputs": [
    {
     "data": {
      "text/plain": [
       "SVC()"
      ]
     },
     "execution_count": 21,
     "metadata": {},
     "output_type": "execute_result"
    }
   ],
   "source": [
    "from sklearn.svm import SVC\n",
    "svm_clf = SVC()\n",
    "X_train_fr = X_train.reshape(-1, X_train.shape[1] * X_train.shape[2])\n",
    "y_train_arg = np.argmax(y_train, axis=1)\n",
    "svm_clf.fit(X_train_fr, y_train_arg)"
   ]
  },
  {
   "cell_type": "code",
   "execution_count": 22,
   "metadata": {},
   "outputs": [
    {
     "name": "stdout",
     "output_type": "stream",
     "text": [
      "              precision    recall  f1-score   support\n",
      "\n",
      "    Standing       1.00      1.00      1.00        71\n",
      "      Eating       1.00      1.00      1.00        75\n",
      "     Nothing       1.00      1.00      1.00        64\n",
      "   Handswing       1.00      1.00      1.00        72\n",
      "\n",
      "    accuracy                           1.00       282\n",
      "   macro avg       1.00      1.00      1.00       282\n",
      "weighted avg       1.00      1.00      1.00       282\n",
      "\n"
     ]
    }
   ],
   "source": [
    "from sklearn.metrics import classification_report\n",
    "X_test_fr = X_test.reshape(-1, X_test.shape[1] * X_test.shape[2])\n",
    "svm_prediction_arg = svm_clf.predict(X_test_fr)\n",
    "y_test_arg=np.argmax(y_test, axis=1)\n",
    "table = classification_report(y_test_arg, svm_prediction_arg, output_dict=False,\n",
    "    target_names=['Standing', 'Eating', 'Nothing','Handswing'] )\n",
    "print(table)"
   ]
  },
  {
   "cell_type": "code",
   "execution_count": 23,
   "metadata": {},
   "outputs": [
    {
     "data": {
      "text/plain": [
       "array([1, 3, 0, 3, 0, 1, 1, 1, 1, 3, 2, 2, 1, 3, 1, 1, 0, 2, 1, 0, 0, 0,\n",
       "       2, 0, 0, 3, 2, 3, 2, 2, 1, 0, 0, 3, 3, 0, 3, 2, 3, 3, 0, 0, 1, 0,\n",
       "       0, 0, 2, 1, 1, 2, 1, 0, 1, 3, 2, 2, 2, 0, 1, 0, 3, 2, 3, 2, 2, 1,\n",
       "       1, 2, 3, 2, 2, 2, 3, 2, 3, 1, 1, 1, 2, 0, 1, 0, 1, 0, 3, 1, 1, 1,\n",
       "       0, 1, 2, 3, 3, 1, 2, 2, 3, 0, 0, 2, 3, 2, 3, 3, 1, 2, 2, 1, 1, 0,\n",
       "       3, 3, 1, 0, 2, 2, 0, 0, 0, 1, 2, 0, 0, 0, 0, 2, 1, 0, 1, 2, 1, 2,\n",
       "       3, 0, 1, 1, 2, 2, 1, 1, 1, 3, 0, 3, 3, 1, 0, 0, 3, 0, 0, 2, 2, 3,\n",
       "       3, 1, 2, 0, 0, 3, 1, 3, 0, 2, 1, 3, 1, 3, 2, 3, 0, 1, 1, 0, 1, 0,\n",
       "       3, 2, 3, 3, 3, 3, 3, 3, 0, 0, 2, 0, 3, 2, 1, 2, 2, 1, 3, 3, 3, 0,\n",
       "       2, 1, 3, 3, 1, 3, 3, 0, 0, 1, 2, 0, 2, 1, 2, 0, 3, 3, 0, 3, 0, 1,\n",
       "       1, 2, 3, 2, 3, 1, 0, 2, 3, 1, 1, 1, 2, 0, 3, 0, 2, 3, 1, 0, 3, 0,\n",
       "       1, 1, 3, 1, 3, 0, 1, 2, 1, 3, 1, 2, 1, 1, 3, 0, 1, 2, 3, 1, 2, 0,\n",
       "       3, 0, 3, 0, 3, 0, 3, 2, 2, 0, 2, 1, 1, 1, 0, 3, 2, 0], dtype=int64)"
      ]
     },
     "execution_count": 23,
     "metadata": {},
     "output_type": "execute_result"
    }
   ],
   "source": [
    "y_test_arg"
   ]
  }
 ],
 "metadata": {
  "kernelspec": {
   "display_name": "Python 3.8.8 ('base')",
   "language": "python",
   "name": "python3"
  },
  "language_info": {
   "codemirror_mode": {
    "name": "ipython",
    "version": 3
   },
   "file_extension": ".py",
   "mimetype": "text/x-python",
   "name": "python",
   "nbconvert_exporter": "python",
   "pygments_lexer": "ipython3",
   "version": "3.8.8"
  },
  "orig_nbformat": 4,
  "vscode": {
   "interpreter": {
    "hash": "85be0b0c3cafe0770266cd76b35c9b16c13052514619ba666acd698fed70c9c0"
   }
  }
 },
 "nbformat": 4,
 "nbformat_minor": 2
}
