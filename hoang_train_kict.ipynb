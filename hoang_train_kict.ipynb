{
 "cells": [
  {
   "cell_type": "markdown",
   "metadata": {},
   "source": [
    "## Import library"
   ]
  },
  {
   "cell_type": "code",
   "execution_count": 1,
   "metadata": {},
   "outputs": [],
   "source": [
    "import numpy as np\n",
    "import pandas as pd\n",
    "\n",
    "from tensorflow.keras.layers import LSTM, Dense,Dropout\n",
    "from tensorflow.keras.models import Sequential\n",
    "from sklearn.preprocessing import OneHotEncoder\n",
    "from sklearn.compose import ColumnTransformer\n",
    "import os\n",
    "\n",
    "from sklearn.model_selection import train_test_split"
   ]
  },
  {
   "cell_type": "markdown",
   "metadata": {},
   "source": [
    "## Read dataset"
   ]
  },
  {
   "cell_type": "code",
   "execution_count": 2,
   "metadata": {},
   "outputs": [],
   "source": [
    "# Đọc dữ liệu\n",
    "standing_df = pd.read_csv(\"Standing_kict.text\")\n",
    "eating_df = pd.read_csv(\"Eating_kict.text\")\n",
    "nothing_df = pd.read_csv(\"Do_nothing_kict.text\")\n",
    "# clapp_df = pd.read_csv(\"Clapping.txt\")\n",
    "handswing_df = pd.read_csv(\"Swing_hand_kict.text\")\n",
    "\n",
    "X = []\n",
    "y = []\n",
    "no_of_timesteps = 10"
   ]
  },
  {
   "cell_type": "markdown",
   "metadata": {},
   "source": [
    "### data processing "
   ]
  },
  {
   "cell_type": "code",
   "execution_count": 3,
   "metadata": {},
   "outputs": [],
   "source": [
    "dataset = standing_df.iloc[:,1:].values\n",
    "n_sample = len(dataset)\n",
    "for i in range(no_of_timesteps, n_sample):\n",
    "    X.append(dataset[i-no_of_timesteps:i,:])\n",
    "    y.append(np.array([1., 0., 0.,0.]))\n",
    "\n",
    "dataset = eating_df.iloc[:,1:].values\n",
    "n_sample = len(dataset)\n",
    "for i in range(no_of_timesteps, n_sample):\n",
    "    X.append(dataset[i-no_of_timesteps:i,:])\n",
    "    y.append(np.array([0., 1., 0.,0.]))\n",
    "\n",
    "dataset = nothing_df.iloc[:,1:].values\n",
    "n_sample = len(dataset)\n",
    "for i in range(no_of_timesteps, n_sample):\n",
    "    X.append(dataset[i-no_of_timesteps:i,:])\n",
    "    y.append(np.array([0., 0., 1.,0.]))\n",
    "\n",
    "\n",
    "# dataset = clapp_df.iloc[:,1:].values\n",
    "# n_sample = len(dataset)\n",
    "# for i in range(no_of_timesteps, n_sample):\n",
    "#     X.append(dataset[i-no_of_timesteps:i,:])\n",
    "#     y.append(np.array([0., 0., 0.,1.,0.]))\n",
    "\n",
    "dataset = handswing_df.iloc[:,1:].values\n",
    "n_sample = len(dataset)\n",
    "for i in range(no_of_timesteps, n_sample):\n",
    "    X.append(dataset[i-no_of_timesteps:i,:])\n",
    "    y.append(np.array([0., 0.,0.,1.]))\n"
   ]
  },
  {
   "cell_type": "code",
   "execution_count": 4,
   "metadata": {},
   "outputs": [
    {
     "name": "stdout",
     "output_type": "stream",
     "text": [
      "(1960, 10, 64) (1960, 4)\n",
      "(1372, 10, 64)\n",
      "(1372, 4)\n"
     ]
    }
   ],
   "source": [
    "X, y = np.array(X), np.array(y)\n",
    "print(X.shape, y.shape)\n",
    "# print(X)\n",
    "# columnTransformer = ColumnTransformer([('encoder',\n",
    "#                                         OneHotEncoder(),\n",
    "#                                         [0])],\n",
    "#                                       remainder='passthrough')\n",
    "# onehotencoder = OneHotEncoder()\n",
    "# y = onehotencoder.fit_transform(y)\n",
    "#\n",
    "\n",
    "X_train, X_test, y_train, y_test = train_test_split(X, y, test_size=0.3)\n",
    "X_val, X_test, y_val, y_test = train_test_split(X_test, y_test, test_size=0.5)\n",
    "print(X_train.shape)\n",
    "print(y_train.shape)"
   ]
  },
  {
   "cell_type": "markdown",
   "metadata": {},
   "source": [
    "## Training model"
   ]
  },
  {
   "cell_type": "markdown",
   "metadata": {},
   "source": [
    "0. LSTM"
   ]
  },
  {
   "cell_type": "code",
   "execution_count": 6,
   "metadata": {},
   "outputs": [
    {
     "name": "stdout",
     "output_type": "stream",
     "text": [
      "Epoch 1/20\n",
      "43/43 [==============================] - 8s 44ms/step - loss: 1.3328 - accuracy: 0.4652 - val_loss: 0.6537 - val_accuracy: 0.9116\n",
      "Epoch 2/20\n",
      "43/43 [==============================] - 0s 9ms/step - loss: 0.4711 - accuracy: 0.9342 - val_loss: 0.2662 - val_accuracy: 0.9320\n",
      "Epoch 3/20\n",
      "43/43 [==============================] - 0s 10ms/step - loss: 0.1996 - accuracy: 0.9684 - val_loss: 0.1394 - val_accuracy: 0.9932\n",
      "Epoch 4/20\n",
      "43/43 [==============================] - 0s 10ms/step - loss: 0.1012 - accuracy: 0.9902 - val_loss: 0.0644 - val_accuracy: 1.0000\n",
      "Epoch 5/20\n",
      "43/43 [==============================] - 0s 9ms/step - loss: 0.0480 - accuracy: 1.0000 - val_loss: 0.0318 - val_accuracy: 1.0000\n",
      "Epoch 6/20\n",
      "43/43 [==============================] - 0s 11ms/step - loss: 0.0244 - accuracy: 1.0000 - val_loss: 0.0204 - val_accuracy: 1.0000\n",
      "Epoch 7/20\n",
      "43/43 [==============================] - 0s 11ms/step - loss: 0.0168 - accuracy: 1.0000 - val_loss: 0.0142 - val_accuracy: 1.0000\n",
      "Epoch 8/20\n",
      "43/43 [==============================] - 0s 10ms/step - loss: 0.0126 - accuracy: 1.0000 - val_loss: 0.0100 - val_accuracy: 1.0000\n",
      "Epoch 9/20\n",
      "43/43 [==============================] - 0s 11ms/step - loss: 0.0086 - accuracy: 1.0000 - val_loss: 0.0075 - val_accuracy: 1.0000\n",
      "Epoch 10/20\n",
      "43/43 [==============================] - 0s 9ms/step - loss: 0.0065 - accuracy: 1.0000 - val_loss: 0.0058 - val_accuracy: 1.0000\n",
      "Epoch 11/20\n",
      "43/43 [==============================] - 0s 9ms/step - loss: 0.0049 - accuracy: 1.0000 - val_loss: 0.0048 - val_accuracy: 1.0000\n",
      "Epoch 12/20\n",
      "43/43 [==============================] - 0s 8ms/step - loss: 0.0041 - accuracy: 1.0000 - val_loss: 0.0036 - val_accuracy: 1.0000\n",
      "Epoch 13/20\n",
      "43/43 [==============================] - 0s 9ms/step - loss: 0.0031 - accuracy: 1.0000 - val_loss: 0.0023 - val_accuracy: 1.0000\n",
      "Epoch 14/20\n",
      "43/43 [==============================] - 0s 11ms/step - loss: 0.0020 - accuracy: 1.0000 - val_loss: 0.0017 - val_accuracy: 1.0000\n",
      "Epoch 15/20\n",
      "43/43 [==============================] - 0s 10ms/step - loss: 0.0016 - accuracy: 1.0000 - val_loss: 0.0015 - val_accuracy: 1.0000\n",
      "Epoch 16/20\n",
      "43/43 [==============================] - 0s 9ms/step - loss: 0.0013 - accuracy: 1.0000 - val_loss: 0.0014 - val_accuracy: 1.0000\n",
      "Epoch 17/20\n",
      "43/43 [==============================] - 0s 9ms/step - loss: 0.0011 - accuracy: 1.0000 - val_loss: 0.0013 - val_accuracy: 1.0000\n",
      "Epoch 18/20\n",
      "43/43 [==============================] - 0s 9ms/step - loss: 0.0010 - accuracy: 1.0000 - val_loss: 0.0012 - val_accuracy: 1.0000\n",
      "Epoch 19/20\n",
      "43/43 [==============================] - 0s 9ms/step - loss: 9.3994e-04 - accuracy: 1.0000 - val_loss: 0.0011 - val_accuracy: 1.0000\n",
      "Epoch 20/20\n",
      "43/43 [==============================] - 0s 11ms/step - loss: 8.4894e-04 - accuracy: 1.0000 - val_loss: 9.6893e-04 - val_accuracy: 1.0000\n"
     ]
    },
    {
     "data": {
      "text/plain": [
       "<tensorflow.python.keras.callbacks.History at 0x1ae7f8d10d0>"
      ]
     },
     "execution_count": 6,
     "metadata": {},
     "output_type": "execute_result"
    }
   ],
   "source": [
    "model  = Sequential()\n",
    "model.add(LSTM(units = 32, input_shape = (X.shape[1], X.shape[2])))\n",
    "model.add(Dense(units = 4, activation=\"softmax\"))\n",
    "model.compile(optimizer=\"adam\", metrics = ['accuracy'], loss = \"categorical_crossentropy\")\n",
    "\n",
    "model.fit(X_train, y_train, epochs=20, verbose = 1,batch_size=32,validation_data=(X_val, y_val))"
   ]
  },
  {
   "cell_type": "code",
   "execution_count": 7,
   "metadata": {},
   "outputs": [],
   "source": [
    "lstm_prediction = model.predict(X_test)\n",
    "lstm_prediction_arg = np.argmax(lstm_prediction, axis=1)\n",
    "y_test_arg=np.argmax(y_test, axis=1)"
   ]
  },
  {
   "cell_type": "code",
   "execution_count": 8,
   "metadata": {},
   "outputs": [
    {
     "name": "stdout",
     "output_type": "stream",
     "text": [
      "              precision    recall  f1-score   support\n",
      "\n",
      "    Standing       1.00      1.00      1.00        65\n",
      "      Eating       1.00      1.00      1.00        76\n",
      "     Nothing       1.00      1.00      1.00        71\n",
      "   Handswing       1.00      1.00      1.00        82\n",
      "\n",
      "    accuracy                           1.00       294\n",
      "   macro avg       1.00      1.00      1.00       294\n",
      "weighted avg       1.00      1.00      1.00       294\n",
      "\n"
     ]
    }
   ],
   "source": [
    "from sklearn.metrics import classification_report\n",
    "table = classification_report(y_test_arg, lstm_prediction_arg, output_dict=False,\n",
    "    target_names=['Standing', 'Eating', 'Nothing','Handswing'] )\n",
    "print(table)"
   ]
  },
  {
   "cell_type": "markdown",
   "metadata": {},
   "source": [
    "1. Stacked LSTM"
   ]
  },
  {
   "cell_type": "code",
   "execution_count": 9,
   "metadata": {},
   "outputs": [
    {
     "name": "stdout",
     "output_type": "stream",
     "text": [
      "Epoch 1/20\n",
      "43/43 [==============================] - 18s 111ms/step - loss: 1.0467 - accuracy: 0.6398 - val_loss: 0.0167 - val_accuracy: 0.9966\n",
      "Epoch 2/20\n",
      "43/43 [==============================] - 1s 24ms/step - loss: 0.0592 - accuracy: 0.9879 - val_loss: 0.0104 - val_accuracy: 1.0000\n",
      "Epoch 3/20\n",
      "43/43 [==============================] - 1s 25ms/step - loss: 0.0324 - accuracy: 0.9874 - val_loss: 0.0035 - val_accuracy: 1.0000\n",
      "Epoch 4/20\n",
      "43/43 [==============================] - 1s 25ms/step - loss: 0.0280 - accuracy: 0.9918 - val_loss: 0.0246 - val_accuracy: 0.9898\n",
      "Epoch 5/20\n",
      "43/43 [==============================] - 1s 23ms/step - loss: 0.0378 - accuracy: 0.9924 - val_loss: 0.0035 - val_accuracy: 1.0000\n",
      "Epoch 6/20\n",
      "43/43 [==============================] - 1s 22ms/step - loss: 0.0037 - accuracy: 1.0000 - val_loss: 0.0017 - val_accuracy: 1.0000\n",
      "Epoch 7/20\n",
      "43/43 [==============================] - 1s 22ms/step - loss: 0.0025 - accuracy: 1.0000 - val_loss: 0.0012 - val_accuracy: 1.0000\n",
      "Epoch 8/20\n",
      "43/43 [==============================] - 1s 22ms/step - loss: 0.0020 - accuracy: 1.0000 - val_loss: 9.5377e-04 - val_accuracy: 1.0000\n",
      "Epoch 9/20\n",
      "43/43 [==============================] - 1s 22ms/step - loss: 0.0016 - accuracy: 1.0000 - val_loss: 7.7465e-04 - val_accuracy: 1.0000\n",
      "Epoch 10/20\n",
      "43/43 [==============================] - 1s 24ms/step - loss: 0.0013 - accuracy: 1.0000 - val_loss: 6.8954e-04 - val_accuracy: 1.0000\n",
      "Epoch 11/20\n",
      "43/43 [==============================] - 1s 25ms/step - loss: 0.0014 - accuracy: 1.0000 - val_loss: 9.6473e-04 - val_accuracy: 1.0000\n",
      "Epoch 12/20\n",
      "43/43 [==============================] - 1s 22ms/step - loss: 0.0071 - accuracy: 0.9986 - val_loss: 6.5403e-04 - val_accuracy: 1.0000\n",
      "Epoch 13/20\n",
      "43/43 [==============================] - 1s 23ms/step - loss: 0.0011 - accuracy: 1.0000 - val_loss: 4.4645e-04 - val_accuracy: 1.0000\n",
      "Epoch 14/20\n",
      "43/43 [==============================] - 1s 25ms/step - loss: 7.8192e-04 - accuracy: 1.0000 - val_loss: 3.8944e-04 - val_accuracy: 1.0000\n",
      "Epoch 15/20\n",
      "43/43 [==============================] - 1s 24ms/step - loss: 6.1198e-04 - accuracy: 1.0000 - val_loss: 3.4460e-04 - val_accuracy: 1.0000\n",
      "Epoch 16/20\n",
      "43/43 [==============================] - 1s 25ms/step - loss: 6.2633e-04 - accuracy: 1.0000 - val_loss: 3.0697e-04 - val_accuracy: 1.0000\n",
      "Epoch 17/20\n",
      "43/43 [==============================] - 1s 23ms/step - loss: 5.2797e-04 - accuracy: 1.0000 - val_loss: 2.7535e-04 - val_accuracy: 1.0000\n",
      "Epoch 18/20\n",
      "43/43 [==============================] - 1s 21ms/step - loss: 5.1018e-04 - accuracy: 1.0000 - val_loss: 2.4844e-04 - val_accuracy: 1.0000\n",
      "Epoch 19/20\n",
      "43/43 [==============================] - 1s 22ms/step - loss: 4.4199e-04 - accuracy: 1.0000 - val_loss: 2.2539e-04 - val_accuracy: 1.0000\n",
      "Epoch 20/20\n",
      "43/43 [==============================] - 1s 22ms/step - loss: 3.9535e-04 - accuracy: 1.0000 - val_loss: 2.0550e-04 - val_accuracy: 1.0000\n"
     ]
    },
    {
     "data": {
      "text/plain": [
       "<tensorflow.python.keras.callbacks.History at 0x1ab9b054d30>"
      ]
     },
     "execution_count": 9,
     "metadata": {},
     "output_type": "execute_result"
    }
   ],
   "source": [
    "\n",
    "from tabnanny import verbose\n",
    "\n",
    "\n",
    "stlstm_model  = Sequential()\n",
    "stlstm_model.add(LSTM(units = 50, return_sequences = True, input_shape = (X.shape[1], X.shape[2])))\n",
    "stlstm_model.add(Dropout(0.2))\n",
    "stlstm_model.add(LSTM(units = 50, return_sequences = True))\n",
    "stlstm_model.add(Dropout(0.2))\n",
    "stlstm_model.add(LSTM(units = 50, return_sequences = True))\n",
    "stlstm_model.add(Dropout(0.2))\n",
    "stlstm_model.add(LSTM(units = 50))\n",
    "stlstm_model.add(Dropout(0.2))\n",
    "stlstm_model.add(Dense(units =4, activation=\"softmax\"))\n",
    "stlstm_model.compile(optimizer=\"adam\", metrics = ['accuracy'], loss = \"categorical_crossentropy\")\n",
    "\n",
    "stlstm_model.fit(X_train, y_train, epochs=20, verbose = 1,batch_size=32,validation_data=(X_val, y_val))"
   ]
  },
  {
   "cell_type": "code",
   "execution_count": 10,
   "metadata": {},
   "outputs": [
    {
     "name": "stdout",
     "output_type": "stream",
     "text": [
      "[[5.7708101e-05 4.8345573e-05 9.9984145e-01 5.2477870e-05]\n",
      " [8.2495339e-05 9.9976391e-01 9.5470205e-05 5.8193978e-05]\n",
      " [5.4824905e-05 4.5146917e-05 9.9984550e-01 5.4445376e-05]\n",
      " ...\n",
      " [7.8124489e-05 9.9977082e-01 9.6298791e-05 5.4753560e-05]\n",
      " [4.4734428e-05 2.2294626e-05 7.0753522e-05 9.9986219e-01]\n",
      " [4.4850523e-05 2.1686621e-05 7.0601105e-05 9.9986291e-01]]\n"
     ]
    }
   ],
   "source": [
    "stacked_lstm_prediction = stlstm_model.predict(X_test)\n",
    "print(stacked_lstm_prediction)"
   ]
  },
  {
   "cell_type": "code",
   "execution_count": 11,
   "metadata": {},
   "outputs": [],
   "source": [
    "stack_lstm_prediction_arg = np.argmax(stacked_lstm_prediction, axis=1)\n",
    "\n",
    "y_test_arg=np.argmax(y_test, axis=1)"
   ]
  },
  {
   "cell_type": "code",
   "execution_count": 12,
   "metadata": {},
   "outputs": [
    {
     "name": "stdout",
     "output_type": "stream",
     "text": [
      "accuracy =  1.0\n",
      "precision =  [1. 1. 1. 1.]\n",
      "recall =  [1. 1. 1. 1.]\n",
      "f1_score =  [1. 1. 1. 1.]\n"
     ]
    }
   ],
   "source": [
    "from sklearn.metrics import f1_score, accuracy_score, precision_score, recall_score\n",
    "## Accuracy\n",
    "lstm_acc = accuracy_score(y_test_arg,stack_lstm_prediction_arg)\n",
    "## Precision\n",
    "lstm_pre = precision_score(y_test_arg,stack_lstm_prediction_arg,average=None)\n",
    "## Recall\n",
    "lstm_rec = recall_score(y_test_arg,stack_lstm_prediction_arg,average=None)\n",
    "## F1 Score\n",
    "lstm_f1 = f1_score(y_test_arg,stack_lstm_prediction_arg,average=None)\n",
    "\n",
    "print(\"accuracy = \", lstm_acc)\n",
    "print(\"precision = \", lstm_pre)\n",
    "print(\"recall = \", lstm_rec)\n",
    "print(\"f1_score = \", lstm_f1)"
   ]
  },
  {
   "cell_type": "code",
   "execution_count": 13,
   "metadata": {},
   "outputs": [
    {
     "name": "stdout",
     "output_type": "stream",
     "text": [
      "              precision    recall  f1-score   support\n",
      "\n",
      "    Standing       1.00      1.00      1.00        65\n",
      "      Eating       1.00      1.00      1.00        76\n",
      "     Nothing       1.00      1.00      1.00        71\n",
      "   Handswing       1.00      1.00      1.00        82\n",
      "\n",
      "    accuracy                           1.00       294\n",
      "   macro avg       1.00      1.00      1.00       294\n",
      "weighted avg       1.00      1.00      1.00       294\n",
      "\n"
     ]
    }
   ],
   "source": [
    "from sklearn.metrics import classification_report\n",
    "table = classification_report(y_test_arg, stack_lstm_prediction_arg, output_dict=False,\n",
    "    target_names=['Standing', 'Eating', 'Nothing','Handswing'] )\n",
    "print(table)"
   ]
  },
  {
   "cell_type": "markdown",
   "metadata": {},
   "source": [
    "2. Random Forest"
   ]
  },
  {
   "cell_type": "code",
   "execution_count": 14,
   "metadata": {},
   "outputs": [
    {
     "name": "stdout",
     "output_type": "stream",
     "text": [
      "(1372, 640)\n"
     ]
    },
    {
     "data": {
      "text/plain": [
       "RandomForestClassifier(random_state=42)"
      ]
     },
     "execution_count": 14,
     "metadata": {},
     "output_type": "execute_result"
    }
   ],
   "source": [
    "from sklearn.ensemble import RandomForestClassifier\n",
    "forest_clf = RandomForestClassifier(random_state=42)\n",
    "#y_probas_forest = cross_val_predict(forest_clf, X_train, y_train, cv=3, method=\"predict_proba\")\n",
    "X_train_fr = X_train.reshape(-1, X_train.shape[1] * X_train.shape[2])\n",
    "y_train_arg = np.argmax(y_train, axis=1)\n",
    "print(X_train_fr.shape)\n",
    "forest_clf.fit(X_train_fr, y_train_arg)"
   ]
  },
  {
   "cell_type": "code",
   "execution_count": 15,
   "metadata": {},
   "outputs": [
    {
     "name": "stdout",
     "output_type": "stream",
     "text": [
      "              precision    recall  f1-score   support\n",
      "\n",
      "    Standing       1.00      1.00      1.00        65\n",
      "      Eating       1.00      1.00      1.00        76\n",
      "     Nothing       1.00      1.00      1.00        71\n",
      "   Handswing       1.00      1.00      1.00        82\n",
      "\n",
      "    accuracy                           1.00       294\n",
      "   macro avg       1.00      1.00      1.00       294\n",
      "weighted avg       1.00      1.00      1.00       294\n",
      "\n"
     ]
    }
   ],
   "source": [
    "from sklearn.metrics import classification_report\n",
    "X_test_fr = X_test.reshape(-1, X_test.shape[1] * X_test.shape[2])\n",
    "rf_prediction_arg = forest_clf.predict(X_test_fr)\n",
    "y_test_arg=np.argmax(y_test, axis=1)\n",
    "table = classification_report(y_test_arg, rf_prediction_arg, output_dict=False,\n",
    "    target_names=['Standing', 'Eating', 'Nothing','Handswing'] )\n",
    "print(table)"
   ]
  },
  {
   "cell_type": "markdown",
   "metadata": {},
   "source": [
    "3. LogisticRegression"
   ]
  },
  {
   "cell_type": "code",
   "execution_count": 16,
   "metadata": {},
   "outputs": [
    {
     "name": "stderr",
     "output_type": "stream",
     "text": [
      "C:\\Users\\Hoang\\AppData\\Roaming\\Python\\Python38\\site-packages\\sklearn\\linear_model\\_logistic.py:814: ConvergenceWarning: lbfgs failed to converge (status=1):\n",
      "STOP: TOTAL NO. of ITERATIONS REACHED LIMIT.\n",
      "\n",
      "Increase the number of iterations (max_iter) or scale the data as shown in:\n",
      "    https://scikit-learn.org/stable/modules/preprocessing.html\n",
      "Please also refer to the documentation for alternative solver options:\n",
      "    https://scikit-learn.org/stable/modules/linear_model.html#logistic-regression\n",
      "  n_iter_i = _check_optimize_result(\n"
     ]
    },
    {
     "data": {
      "text/plain": [
       "LogisticRegression(random_state=42)"
      ]
     },
     "execution_count": 16,
     "metadata": {},
     "output_type": "execute_result"
    }
   ],
   "source": [
    "from sklearn.linear_model import LogisticRegression\n",
    "lr_clf = LogisticRegression(random_state=42)\n",
    "#y_probas_forest = cross_val_predict(forest_clf, X_train, y_train, cv=3, method=\"predict_proba\")\n",
    "X_train_fr = X_train.reshape(-1, X_train.shape[1] * X_train.shape[2])\n",
    "y_train_arg = np.argmax(y_train, axis=1)\n",
    "lr_clf.fit(X_train_fr, y_train_arg)"
   ]
  },
  {
   "cell_type": "code",
   "execution_count": 17,
   "metadata": {},
   "outputs": [
    {
     "name": "stdout",
     "output_type": "stream",
     "text": [
      "              precision    recall  f1-score   support\n",
      "\n",
      "    Standing       1.00      1.00      1.00        65\n",
      "      Eating       1.00      1.00      1.00        76\n",
      "     Nothing       1.00      1.00      1.00        71\n",
      "   Handswing       1.00      1.00      1.00        82\n",
      "\n",
      "    accuracy                           1.00       294\n",
      "   macro avg       1.00      1.00      1.00       294\n",
      "weighted avg       1.00      1.00      1.00       294\n",
      "\n"
     ]
    }
   ],
   "source": [
    "from sklearn.metrics import classification_report\n",
    "X_test_fr = X_test.reshape(-1, X_test.shape[1] * X_test.shape[2])\n",
    "lr_prediction_arg = lr_clf.predict(X_test_fr)\n",
    "y_test_arg=np.argmax(y_test, axis=1)\n",
    "table = classification_report(y_test_arg, lr_prediction_arg, output_dict=False,\n",
    "    target_names=['Standing', 'Eating', 'Nothing','Handswing'] )\n",
    "print(table)"
   ]
  },
  {
   "cell_type": "markdown",
   "metadata": {},
   "source": [
    "4. SVC"
   ]
  },
  {
   "cell_type": "code",
   "execution_count": 18,
   "metadata": {},
   "outputs": [
    {
     "data": {
      "text/plain": [
       "SVC()"
      ]
     },
     "execution_count": 18,
     "metadata": {},
     "output_type": "execute_result"
    }
   ],
   "source": [
    "from sklearn.svm import SVC\n",
    "svm_clf = SVC()\n",
    "X_train_fr = X_train.reshape(-1, X_train.shape[1] * X_train.shape[2])\n",
    "y_train_arg = np.argmax(y_train, axis=1)\n",
    "svm_clf.fit(X_train_fr, y_train_arg)"
   ]
  },
  {
   "cell_type": "code",
   "execution_count": 19,
   "metadata": {},
   "outputs": [
    {
     "name": "stdout",
     "output_type": "stream",
     "text": [
      "              precision    recall  f1-score   support\n",
      "\n",
      "    Standing       1.00      1.00      1.00        65\n",
      "      Eating       1.00      1.00      1.00        76\n",
      "     Nothing       1.00      1.00      1.00        71\n",
      "   Handswing       1.00      1.00      1.00        82\n",
      "\n",
      "    accuracy                           1.00       294\n",
      "   macro avg       1.00      1.00      1.00       294\n",
      "weighted avg       1.00      1.00      1.00       294\n",
      "\n"
     ]
    }
   ],
   "source": [
    "from sklearn.metrics import classification_report\n",
    "X_test_fr = X_test.reshape(-1, X_test.shape[1] * X_test.shape[2])\n",
    "svm_prediction_arg = svm_clf.predict(X_test_fr)\n",
    "y_test_arg=np.argmax(y_test, axis=1)\n",
    "table = classification_report(y_test_arg, svm_prediction_arg, output_dict=False,\n",
    "    target_names=['Standing', 'Eating', 'Nothing','Handswing'] )\n",
    "print(table)"
   ]
  }
 ],
 "metadata": {
  "kernelspec": {
   "display_name": "Python 3.8.8 ('base')",
   "language": "python",
   "name": "python3"
  },
  "language_info": {
   "codemirror_mode": {
    "name": "ipython",
    "version": 3
   },
   "file_extension": ".py",
   "mimetype": "text/x-python",
   "name": "python",
   "nbconvert_exporter": "python",
   "pygments_lexer": "ipython3",
   "version": "3.8.8"
  },
  "orig_nbformat": 4,
  "vscode": {
   "interpreter": {
    "hash": "ad2bdc8ecc057115af97d19610ffacc2b4e99fae6737bb82f5d7fb13d2f2c186"
   }
  }
 },
 "nbformat": 4,
 "nbformat_minor": 2
}
