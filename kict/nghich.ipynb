{
 "cells": [
  {
   "cell_type": "code",
   "execution_count": 8,
   "metadata": {},
   "outputs": [
    {
     "name": "stdout",
     "output_type": "stream",
     "text": [
      "[[ 87  87  88 ...  60  60  60]\n",
      " [ 87  87  88 ...  61  61  61]\n",
      " [ 88  88  89 ...  61  61  61]\n",
      " ...\n",
      " [151 147 144 ... 102 102 102]\n",
      " [148 146 146 ... 102 102 102]\n",
      " [145 145 148 ... 102 102 102]]\n"
     ]
    }
   ],
   "source": [
    "import cv2 \n",
    "\n",
    "img = cv2.imread(\"./download.jpg\")\n",
    "gray = cv2.cvtColor(img, cv2.COLOR_BGR2GRAY)\n",
    "print(gray)"
   ]
  }
 ],
 "metadata": {
  "kernelspec": {
   "display_name": "Python 3.8.8 ('base')",
   "language": "python",
   "name": "python3"
  },
  "language_info": {
   "codemirror_mode": {
    "name": "ipython",
    "version": 3
   },
   "file_extension": ".py",
   "mimetype": "text/x-python",
   "name": "python",
   "nbconvert_exporter": "python",
   "pygments_lexer": "ipython3",
   "version": "3.8.8"
  },
  "orig_nbformat": 4,
  "vscode": {
   "interpreter": {
    "hash": "85be0b0c3cafe0770266cd76b35c9b16c13052514619ba666acd698fed70c9c0"
   }
  }
 },
 "nbformat": 4,
 "nbformat_minor": 2
}
